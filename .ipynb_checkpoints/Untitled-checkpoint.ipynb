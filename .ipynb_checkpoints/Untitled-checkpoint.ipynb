{
 "cells": [
  {
   "cell_type": "code",
   "execution_count": 1,
   "metadata": {},
   "outputs": [
    {
     "name": "stderr",
     "output_type": "stream",
     "text": [
      "WARNING (theano.tensor.blas): Using NumPy C-API based implementation for BLAS functions.\n",
      "C:\\Users\\Vivek Magadi\\Anaconda3\\lib\\site-packages\\h5py\\__init__.py:36: FutureWarning: Conversion of the second argument of issubdtype from `float` to `np.floating` is deprecated. In future, it will be treated as `np.float64 == np.dtype(float).type`.\n",
      "  from ._conv import register_converters as _register_converters\n"
     ]
    }
   ],
   "source": [
    "%matplotlib inline\n",
    "import pymc3 as pm\n",
    "import numpy as np\n",
    "import matplotlib.pyplot as plt\n",
    "import seaborn as sns\n",
    "import pandas as pd\n",
    "import pymc3.distributions.transforms as tr\n",
    "import theano.tensor as tt\n",
    "from scipy.special import gammaln"
   ]
  },
  {
   "cell_type": "code",
   "execution_count": 4,
   "metadata": {},
   "outputs": [],
   "source": [
    "# Get data\n",
    "df_diab = pd.read_csv('dataset_diabetes/diabetic_data.filtered.csv')"
   ]
  },
  {
   "cell_type": "code",
   "execution_count": 49,
   "metadata": {},
   "outputs": [],
   "source": [
    "# Convert Data into right format \n",
    "# Insulin \n",
    "df_diab['converted_insulin'] = np.where(df_diab.insulin == 'No',0,1)\n",
    "\n",
    "# Age\n",
    "df_diab.age = pd.factorize(df_diab.age)[0] + 1"
   ]
  },
  {
   "cell_type": "code",
   "execution_count": 2,
   "metadata": {},
   "outputs": [],
   "source": [
    "y = np.array([\n",
    "     0,  0,  0,  0,  0,  0,  0,  0,  0,  0,  0,  0,  0,  0,  1,  1,  1,\n",
    "     1,  1,  1,  1,  1,  2,  2,  2,  2,  2,  2,  2,  2,  2,  1,  5,  2,\n",
    "     5,  3,  2,  7,  7,  3,  3,  2,  9, 10,  4,  4,  4,  4,  4,  4,  4,\n",
    "    10,  4,  4,  4,  5, 11, 12,  5,  5,  6,  5,  6,  6,  6,  6, 16, 15,\n",
    "    15,  9,  4\n",
    "])\n",
    "n = np.array([\n",
    "    20, 20, 20, 20, 20, 20, 20, 19, 19, 19, 19, 18, 18, 17, 20, 20, 20,\n",
    "    20, 19, 19, 18, 18, 25, 24, 23, 20, 20, 20, 20, 20, 20, 10, 49, 19,\n",
    "    46, 27, 17, 49, 47, 20, 20, 13, 48, 50, 20, 20, 20, 20, 20, 20, 20,\n",
    "    48, 19, 19, 19, 22, 46, 49, 20, 20, 23, 19, 22, 20, 20, 20, 52, 46,\n",
    "    47, 24, 14\n",
    "])\n",
    "\n",
    "N = len(n)"
   ]
  },
  {
   "cell_type": "code",
   "execution_count": 51,
   "metadata": {},
   "outputs": [],
   "source": [
    "# TEst\n",
    "test = df_diab.iloc[:100,:]"
   ]
  },
  {
   "cell_type": "code",
   "execution_count": 44,
   "metadata": {},
   "outputs": [],
   "source": []
  },
  {
   "cell_type": "code",
   "execution_count": null,
   "metadata": {},
   "outputs": [
    {
     "name": "stderr",
     "output_type": "stream",
     "text": [
      "Auto-assigning NUTS sampler...\n",
      "Initializing NUTS using jitter+adapt_diag...\n",
      "Multiprocess sampling (2 chains in 2 jobs)\n",
      "NUTS: [theta, ab]\n",
      "Sampling 2 chains:   0%|                                                                   | 0/6000 [00:00<?, ?draws/s]"
     ]
    }
   ],
   "source": [
    "def logp_ab(value):\n",
    "    ''' prior density'''\n",
    "    return tt.log(tt.pow(tt.sum(value), -5/2))\n",
    "\n",
    "\n",
    "\n",
    "with pm.Model() as model:\n",
    "    # Uninformative prior for alpha and beta\n",
    "    ab = pm.HalfFlat('ab',\n",
    "                       shape=2,\n",
    "                       testval=np.asarray([1., 1.]))\n",
    "    pm.Potential('p(a, b)', logp_ab(ab))\n",
    "\n",
    "    X = pm.Deterministic('X',tt.log(ab[0]/ab[1]))\n",
    "    Z = pm.Deterministic('Z',tt.log(tt.sum(ab)))\n",
    "\n",
    "    theta = pm.Beta('theta', alpha=ab[0], beta=ab[1], shape=test.shape[0])\n",
    "\n",
    "    p = pm.Binomial('y', p=theta, observed=test.age, n=test.converted_insulin)\n",
    "    trace = pm.sample(1000, tune=2000, nuts_kwargs={'target_accept': .95})"
   ]
  },
  {
   "cell_type": "code",
   "execution_count": 50,
   "metadata": {},
   "outputs": [
    {
     "data": {
      "text/plain": [
       "0          1\n",
       "1          2\n",
       "2          3\n",
       "3          4\n",
       "4          5\n",
       "5          6\n",
       "6          7\n",
       "7          8\n",
       "8          9\n",
       "9         10\n",
       "10         5\n",
       "11         7\n",
       "12         5\n",
       "13         9\n",
       "14         7\n",
       "15         7\n",
       "16         6\n",
       "17         6\n",
       "18         8\n",
       "19         8\n",
       "20         6\n",
       "21         7\n",
       "22         8\n",
       "23         9\n",
       "24         8\n",
       "25         6\n",
       "26         9\n",
       "27         6\n",
       "28         3\n",
       "29         9\n",
       "          ..\n",
       "101733     7\n",
       "101734     5\n",
       "101735     8\n",
       "101736     8\n",
       "101737     5\n",
       "101738    10\n",
       "101739     8\n",
       "101740     9\n",
       "101741     9\n",
       "101742     6\n",
       "101743     8\n",
       "101744     8\n",
       "101745     5\n",
       "101746     8\n",
       "101747     9\n",
       "101748     8\n",
       "101749     5\n",
       "101750     5\n",
       "101751     8\n",
       "101752     5\n",
       "101753     7\n",
       "101754     8\n",
       "101755     9\n",
       "101756     9\n",
       "101757     7\n",
       "101758     8\n",
       "101759     9\n",
       "101760     8\n",
       "101761     9\n",
       "101762     8\n",
       "Name: age, Length: 101763, dtype: int64"
      ]
     },
     "execution_count": 50,
     "metadata": {},
     "output_type": "execute_result"
    }
   ],
   "source": []
  }
 ],
 "metadata": {
  "kernelspec": {
   "display_name": "Python 3",
   "language": "python",
   "name": "python3"
  },
  "language_info": {
   "codemirror_mode": {
    "name": "ipython",
    "version": 3
   },
   "file_extension": ".py",
   "mimetype": "text/x-python",
   "name": "python",
   "nbconvert_exporter": "python",
   "pygments_lexer": "ipython3",
   "version": "3.6.5"
  }
 },
 "nbformat": 4,
 "nbformat_minor": 2
}
